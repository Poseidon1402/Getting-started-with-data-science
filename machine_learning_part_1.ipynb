{
 "cells": [
  {
   "cell_type": "code",
   "execution_count": null,
   "metadata": {},
   "outputs": [],
   "source": [
    "import os\n",
    "\n",
    "# Get all files stored inside data directory\n",
    "fileLists = os.listdir('data')\n",
    "\n",
    "for file in fileLists:\n",
    "    print(file) "
   ]
  },
  {
   "cell_type": "code",
   "execution_count": null,
   "metadata": {},
   "outputs": [],
   "source": [
    "import pandas as pnd\n",
    "\n",
    "# Deactivate the maximum number of DataFrame columns to be display\n",
    "pnd.set_option('display.max_columns', None)\n",
    "\n",
    "# Load pokemons'dara inside a Dataframe named ourPokemons\n",
    "ourPokemons = pnd.read_csv('data/pokedex.csv')\n",
    "\n",
    "# Show Dataframes'columns\n",
    "# |---------------------------------------------------------------------------------------------------|\n",
    "# | Column                    |            Meaning                                                    |\n",
    "# |---------------------------------------------------------------------------------------------------|\n",
    "# | NUMERO                    |   Id of the pokemon                                                   |\n",
    "# | NOM                       |   Pokemon's name                                                      |\n",
    "# | TYPE_1                    |   Primary type (Grass, Fire, Steel, ...)                              |\n",
    "# | TYPE_2                    |   Secondary type (Grass, Fire, Steel, ...)                            |\n",
    "# | POINT_DE_VIE              |   Life of the pokemon                                                 |\n",
    "# | NIVEAU_ATTAQUE            |   The Pokemon's attack level                                          |\n",
    "# | NIVEAU_DEFENSE            |   The Pokemon's defense level                                         |\n",
    "# | NIVEAU_ATTAQUE_SPECIALE   |   Pokemon's special attack level                                      |\n",
    "# | NIVEAU_DEFENSE_SPECIALE   |   Pokemon's special defense level                                     |\n",
    "# | VITESSE                   |   Pokemon's speed                                                     |\n",
    "# | GENERATION                |   Generation number to which Pokemon belongs                          |\n",
    "# | LEGENDAIRE                |   Is the Pokémon legendary? This is a Boolean data (True or False)    |\n",
    "# |---------------------------------------------------------------------------------------------------|\n",
    "print(ourPokemons.columns.values)\n",
    "\n",
    "# Display the first 10 lines inside the Dataframe\n",
    "print(ourPokemons.head(10))\n"
   ]
  },
  {
   "cell_type": "code",
   "execution_count": null,
   "metadata": {},
   "outputs": [],
   "source": [
    "# Transforming the LEGENDARY column into an integer 0=FALSE and 1=TRUE\n",
    "ourPokemons['LEGENDAIRE'] = (ourPokemons['LEGENDAIRE'] == 'VRAI').astype(int)\n",
    "\n",
    "print(ourPokemons['LEGENDAIRE'].head(100))\n",
    "\n",
    "# Counting the number of observations and features\n",
    "print(ourPokemons.shape)\n",
    "\n",
    "# Information about our datasets\n",
    "print(ourPokemons.info())\n",
    "\n",
    "# Search the line which contains a null value (Name)\n",
    "print(ourPokemons[ourPokemons['NOM'].isnull()])"
   ]
  },
  {
   "cell_type": "code",
   "execution_count": null,
   "metadata": {},
   "outputs": [],
   "source": [
    "# Load combats.csv file\n",
    "fighting = pnd.read_csv('data/combats.csv')\n",
    "\n",
    "# Show features\n",
    "print(fighting.columns.values)\n",
    "\n",
    "# Show first 10 lines inside the dataframe\n",
    "print(fighting.head(10))\n",
    "\n",
    "# Count lines and column numbers\n",
    "print(fighting.shape)\n",
    "\n",
    "# Information about our dataset\n",
    "print(fighting.info())"
   ]
  },
  {
   "cell_type": "code",
   "execution_count": null,
   "metadata": {},
   "outputs": [],
   "source": [
    "# When a grouping is performed using the groupBy () function, all the features in the dataset take on the value of this grouping.\n",
    "# Features in the dataset take on the value of this grouping.\n",
    "# This is why the features SECOND_POKEMON and POKEMON WINNER have the same value\n",
    "nbPokemonOnFirstPosition = fighting.groupby('POKEMON_PREMIER').count()\n",
    "nbPokemonOnSecondPosition = fighting.groupby('POKEMON_SECOND').count()\n",
    "nbTotalFightPerPokemon = nbPokemonOnFirstPosition + nbPokemonOnSecondPosition\n",
    "\n",
    "nbWin = fighting.groupby('GAGNANT').count()\n",
    "print(nbWin)"
   ]
  },
  {
   "cell_type": "code",
   "execution_count": 20,
   "metadata": {},
   "outputs": [
    {
     "name": "stdout",
     "output_type": "stream",
     "text": [
      "     NUMERO             NOM   TYPE_1  TYPE_2  POINTS_DE_VIE  NIVEAU_ATTAQUE  \\\n",
      "0         1       Bulbasaur    Grass  Poison             45              49   \n",
      "1         2         Ivysaur    Grass  Poison             60              62   \n",
      "2         3        Venusaur    Grass  Poison             80              82   \n",
      "3         4   Mega Venusaur    Grass  Poison             80             100   \n",
      "4         5      Charmander     Fire     NaN             39              52   \n",
      "..      ...             ...      ...     ...            ...             ...   \n",
      "795     796         Diancie     Rock   Fairy             50             100   \n",
      "796     797    Mega Diancie     Rock   Fairy             50             160   \n",
      "797     798  Hoopa Confined  Psychic   Ghost             80             110   \n",
      "798     799   Hoopa Unbound  Psychic    Dark             80             160   \n",
      "799     800       Volcanion     Fire   Water             80             110   \n",
      "\n",
      "     NIVEAU_DEFENSE   NIVEAU_ATTAQUE_SPECEIALE  NIVEAU_DEFENSE_SPECIALE  \\\n",
      "0                49                         65                       65   \n",
      "1                63                         80                       80   \n",
      "2                83                        100                      100   \n",
      "3               123                        122                      120   \n",
      "4                43                         60                       50   \n",
      "..              ...                        ...                      ...   \n",
      "795             150                        100                      150   \n",
      "796             110                        160                      110   \n",
      "797              60                        150                      130   \n",
      "798              60                        170                      130   \n",
      "799             120                        130                       90   \n",
      "\n",
      "     VITESSE  GENERATION  LEGENDAIRE  POKEMON_PREMIER  POKEMON_SECOND  \\\n",
      "0         45           1           0             37.0            37.0   \n",
      "1         60           1           0             46.0            46.0   \n",
      "2         80           1           0             89.0            89.0   \n",
      "3         80           1           0             70.0            70.0   \n",
      "4         65           1           0             55.0            55.0   \n",
      "..       ...         ...         ...              ...             ...   \n",
      "795       50           6           0             39.0            39.0   \n",
      "796      110           6           0            116.0           116.0   \n",
      "797       70           6           0             60.0            60.0   \n",
      "798       80           6           0             89.0            89.0   \n",
      "799       70           6           0             75.0            75.0   \n",
      "\n",
      "     NBR_COMBATS  NBR_VICTOIRES  POURCENTAGE_DE_VICTOIRES  \n",
      "0          133.0           37.0                  0.278195  \n",
      "1          121.0           46.0                  0.380165  \n",
      "2          132.0           89.0                  0.674242  \n",
      "3          125.0           70.0                  0.560000  \n",
      "4          112.0           55.0                  0.491071  \n",
      "..           ...            ...                       ...  \n",
      "795        105.0           39.0                  0.371429  \n",
      "796        131.0          116.0                  0.885496  \n",
      "797        119.0           60.0                  0.504202  \n",
      "798        144.0           89.0                  0.618056  \n",
      "799        121.0           75.0                  0.619835  \n",
      "\n",
      "[800 rows x 17 columns]\n"
     ]
    }
   ],
   "source": [
    "#We create a list from an extraction to obtain the list of list of Pokémons, sorted by number\n",
    "#This list of numbers will enable us to aggregate the data\n",
    "listToBeAggregated = fighting.groupby('GAGNANT').count()\n",
    "listToBeAggregated.sort_index()\n",
    "\n",
    "# We add the number of fights\n",
    "listToBeAggregated['NBR_COMBATS'] = nbPokemonOnFirstPosition.GAGNANT + nbPokemonOnSecondPosition.GAGNANT\n",
    "\n",
    "# We add the number of wins\n",
    "listToBeAggregated['NBR_VICTOIRES'] = nbWin.POKEMON_PREMIER\n",
    "\n",
    "# We calculate the percentage of wins\n",
    "listToBeAggregated['POURCENTAGE_DE_VICTOIRES'] = nbWin.POKEMON_PREMIER / (nbPokemonOnFirstPosition.GAGNANT + nbPokemonOnSecondPosition.GAGNANT)\n",
    "\n",
    "newPokedex = ourPokemons.merge(listToBeAggregated, left_on='NUMERO', right_index=True, how='left')\n",
    "\n",
    "print(newPokedex)"
   ]
  },
  {
   "cell_type": "code",
   "execution_count": null,
   "metadata": {},
   "outputs": [],
   "source": [
    "# Ecart-type (std = standard deviation)\n",
    "# The standard deviation is a statistical value, used to show the distribution\n",
    "# of the data around the mean.\n",
    "print(newPokedex.describe())"
   ]
  },
  {
   "cell_type": "code",
   "execution_count": null,
   "metadata": {},
   "outputs": [],
   "source": [
    "import matplotlib.pyplot as plt\n",
    "import seaborn as sns\n",
    "\n",
    "x_axis = sns.countplot(x=\"TYPE_1\", hue=\"LEGENDAIRE\", data=newPokedex)\n",
    "plt.xticks(rotation=90)\n",
    "plt.xlabel('TYPE_1')\n",
    "plt.ylabel('Total ')\n",
    "plt.title('POKEMON DE TYPE_1')\n",
    "plt.show()"
   ]
  },
  {
   "cell_type": "code",
   "execution_count": null,
   "metadata": {},
   "outputs": [],
   "source": [
    "x_axis = sns.countplot(x='TYPE_2', hue='LEGENDAIRE', data=newPokedex)\n",
    "plt.xticks(rotation=90)\n",
    "plt.xlabel('TYPE_2')\n",
    "plt.ylabel('Total ')\n",
    "plt.title('POKEMONS DE TYPE_2')\n",
    "plt.show()"
   ]
  },
  {
   "cell_type": "code",
   "execution_count": 23,
   "metadata": {},
   "outputs": [
    {
     "name": "stdout",
     "output_type": "stream",
     "text": [
      "          POURCENTAGE_DE_VICTOIRES\n",
      "TYPE_1                            \n",
      "Fairy                     0.329300\n",
      "Rock                      0.404852\n",
      "Steel                     0.424529\n",
      "Poison                    0.433262\n",
      "Bug                       0.439006\n",
      "Ice                       0.439604\n",
      "Grass                     0.440364\n",
      "Water                     0.469357\n",
      "Fighting                  0.475616\n",
      "Ghost                     0.484027\n",
      "Normal                    0.535578\n",
      "Ground                    0.541526\n",
      "Psychic                   0.545747\n",
      "Fire                      0.579215\n",
      "Dark                      0.629726\n",
      "Electric                  0.632861\n",
      "Dragon                    0.633587\n",
      "Flying                    0.765061\n"
     ]
    }
   ],
   "source": [
    "print(newPokedex .groupby('TYPE_1').agg({ \"POURCENTAGE_DE_VICTOIRES\":\"mean\" }).sort_values(by=\"POURCENTAGE_DE_VICTOIRES\"))"
   ]
  }
 ],
 "metadata": {
  "kernelspec": {
   "display_name": "venv",
   "language": "python",
   "name": "python3"
  },
  "language_info": {
   "codemirror_mode": {
    "name": "ipython",
    "version": 3
   },
   "file_extension": ".py",
   "mimetype": "text/x-python",
   "name": "python",
   "nbconvert_exporter": "python",
   "pygments_lexer": "ipython3",
   "version": "3.10.12"
  }
 },
 "nbformat": 4,
 "nbformat_minor": 2
}
