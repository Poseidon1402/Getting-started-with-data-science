{
 "cells": [
  {
   "cell_type": "code",
   "execution_count": 17,
   "metadata": {},
   "outputs": [
    {
     "name": "stdout",
     "output_type": "stream",
     "text": [
      "combats.csv\n",
      "tests.csv\n",
      "poke_type_chart.csv\n",
      "pokedex.csv\n"
     ]
    }
   ],
   "source": [
    "import os\n",
    "\n",
    "# Get all files stored inside data directory\n",
    "fileLists = os.listdir('data')\n",
    "\n",
    "for file in fileLists:\n",
    "    print(file) "
   ]
  },
  {
   "cell_type": "code",
   "execution_count": null,
   "metadata": {},
   "outputs": [],
   "source": [
    "import pandas as pnd\n",
    "\n",
    "# Deactivate the maximum number of DataFrame columns to be display\n",
    "pnd.set_option('display.max_columns', None)\n",
    "\n",
    "# Load pokemons'dara inside a Dataframe named ourPokemons\n",
    "ourPokemons = pnd.read_csv('data/pokedex.csv')\n",
    "\n",
    "# Show Dataframes'columns\n",
    "# |---------------------------------------------------------------------------------------------------|\n",
    "# | Column                    |            Meaning                                                    |\n",
    "# |---------------------------------------------------------------------------------------------------|\n",
    "# | NUMERO                    |   Id of the pokemon                                                   |\n",
    "# | NOM                       |   Pokemon's name                                                      |\n",
    "# | TYPE_1                    |   Primary type (Grass, Fire, Steel, ...)                              |\n",
    "# | TYPE_2                    |   Secondary type (Grass, Fire, Steel, ...)                            |\n",
    "# | POINT_DE_VIE              |   Life of the pokemon                                                 |\n",
    "# | NIVEAU_ATTAQUE            |   The Pokemon's attack level                                          |\n",
    "# | NIVEAU_DEFENSE            |   The Pokemon's defense level                                         |\n",
    "# | NIVEAU_ATTAQUE_SPECIALE   |   Pokemon's special attack level                                      |\n",
    "# | NIVEAU_DEFENSE_SPECIALE   |   Pokemon's special defense level                                     |\n",
    "# | VITESSE                   |   Pokemon's speed                                                     |\n",
    "# | GENERATION                |   Generation number to which Pokemon belongs                          |\n",
    "# | LEGENDAIRE                |   Is the Pokémon legendary? This is a Boolean data (True or False)    |\n",
    "# |---------------------------------------------------------------------------------------------------|\n",
    "print(ourPokemons.columns.values)\n",
    "\n",
    "# Display the first 10 lines inside the Dataframe\n",
    "print(ourPokemons.head(10))\n"
   ]
  },
  {
   "cell_type": "code",
   "execution_count": null,
   "metadata": {},
   "outputs": [],
   "source": [
    "# Transforming the LEGENDARY column into an integer 0=FALSE and 1=TRUE\n",
    "ourPokemons['LEGENDAIRE'] = (ourPokemons['LEGENDAIRE'] == 'VRAI').astype(int)\n",
    "\n",
    "print(ourPokemons['LEGENDAIRE'].head(100))\n",
    "\n",
    "# Counting the number of observations and features\n",
    "print(ourPokemons.shape)\n",
    "\n",
    "# Information about our datasets\n",
    "print(ourPokemons.info())\n",
    "\n",
    "# Search the line which contains a null value (Name)\n",
    "print(ourPokemons[ourPokemons['NOM'].isnull()])"
   ]
  },
  {
   "cell_type": "code",
   "execution_count": 26,
   "metadata": {},
   "outputs": [
    {
     "name": "stdout",
     "output_type": "stream",
     "text": [
      "['POKEMON_PREMIER' 'POKEMON_SECOND' 'GAGNANT']\n",
      "   POKEMON_PREMIER  POKEMON_SECOND  GAGNANT\n",
      "0              266             298      298\n",
      "1              702             701      701\n",
      "2              191             668      668\n",
      "3              237             683      683\n",
      "4              151             231      151\n",
      "5              657             752      657\n",
      "6              192             134      134\n",
      "7               73             545      545\n",
      "8              220             763      763\n",
      "9              302              31       31\n",
      "(50000, 3)\n",
      "<class 'pandas.core.frame.DataFrame'>\n",
      "RangeIndex: 50000 entries, 0 to 49999\n",
      "Data columns (total 3 columns):\n",
      " #   Column           Non-Null Count  Dtype\n",
      "---  ------           --------------  -----\n",
      " 0   POKEMON_PREMIER  50000 non-null  int64\n",
      " 1   POKEMON_SECOND   50000 non-null  int64\n",
      " 2   GAGNANT          50000 non-null  int64\n",
      "dtypes: int64(3)\n",
      "memory usage: 1.1 MB\n",
      "None\n"
     ]
    }
   ],
   "source": [
    "# Load combats.csv file\n",
    "fighting = pnd.read_csv('data/combats.csv')\n",
    "\n",
    "# Show features\n",
    "print(fighting.columns.values)\n",
    "\n",
    "# Show first 10 lines inside the dataframe\n",
    "print(fighting.head(10))\n",
    "\n",
    "# Count lines and column numbers\n",
    "print(fighting.shape)\n",
    "\n",
    "# Information about our dataset\n",
    "print(fighting.info())"
   ]
  },
  {
   "cell_type": "code",
   "execution_count": 31,
   "metadata": {},
   "outputs": [
    {
     "name": "stdout",
     "output_type": "stream",
     "text": [
      "<class 'pandas.core.frame.DataFrame'>\n",
      "Index: 783 entries, 1 to 800\n",
      "Data columns (total 2 columns):\n",
      " #   Column           Non-Null Count  Dtype\n",
      "---  ------           --------------  -----\n",
      " 0   POKEMON_PREMIER  783 non-null    int64\n",
      " 1   POKEMON_SECOND   783 non-null    int64\n",
      "dtypes: int64(2)\n",
      "memory usage: 18.4 KB\n",
      "None\n"
     ]
    }
   ],
   "source": [
    "# When a grouping is performed using the groupBy () function, all the features in the dataset take on the value of this grouping.\n",
    "# Features in the dataset take on the value of this grouping.\n",
    "# This is why the features SECOND_POKEMON and POKEMON WINNER have the same value\n",
    "nbPokemonOnFirstPosition = fighting.groupby('POKEMON_PREMIER').count()\n",
    "nbPokemonOnSecondPosition = fighting.groupby('POKEMON_SECOND').count()\n",
    "nbTotalFightPerPokemon = nbPokemonOnFirstPosition + nbPokemonOnSecondPosition\n",
    "\n",
    "nbWin = fighting.groupby('GAGNANT').count()\n",
    "print(nbWin)"
   ]
  }
 ],
 "metadata": {
  "kernelspec": {
   "display_name": "venv",
   "language": "python",
   "name": "python3"
  },
  "language_info": {
   "codemirror_mode": {
    "name": "ipython",
    "version": 3
   },
   "file_extension": ".py",
   "mimetype": "text/x-python",
   "name": "python",
   "nbconvert_exporter": "python",
   "pygments_lexer": "ipython3",
   "version": "3.10.12"
  }
 },
 "nbformat": 4,
 "nbformat_minor": 2
}
