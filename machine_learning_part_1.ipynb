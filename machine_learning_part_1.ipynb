{
 "cells": [
  {
   "cell_type": "code",
   "execution_count": 7,
   "metadata": {},
   "outputs": [
    {
     "name": "stdout",
     "output_type": "stream",
     "text": [
      "combats.csv\n",
      "tests.csv\n",
      "poke_type_chart.csv\n",
      "pokedex.csv\n"
     ]
    }
   ],
   "source": [
    "import os\n",
    "\n",
    "# Get all files stored inside data directory\n",
    "fileLists = os.listdir('data')\n",
    "\n",
    "for file in fileLists:\n",
    "    print(file) "
   ]
  },
  {
   "cell_type": "code",
   "execution_count": 8,
   "metadata": {},
   "outputs": [
    {
     "name": "stdout",
     "output_type": "stream",
     "text": [
      "['NUMERO' 'NOM' 'TYPE_1' 'TYPE_2' 'POINTS_DE_VIE' 'NIVEAU_ATTAQUE'\n",
      " 'NIVEAU_DEFENSE' ' NIVEAU_ATTAQUE_SPECEIALE' 'NIVEAU_DEFENSE_SPECIALE'\n",
      " 'VITESSE' 'GENERATION' 'LEGENDAIRE']\n",
      "   NUMERO               NOM TYPE_1  TYPE_2  POINTS_DE_VIE  NIVEAU_ATTAQUE  \\\n",
      "0       1         Bulbasaur  Grass  Poison             45              49   \n",
      "1       2           Ivysaur  Grass  Poison             60              62   \n",
      "2       3          Venusaur  Grass  Poison             80              82   \n",
      "3       4     Mega Venusaur  Grass  Poison             80             100   \n",
      "4       5        Charmander   Fire     NaN             39              52   \n",
      "5       6        Charmeleon   Fire     NaN             58              64   \n",
      "6       7         Charizard   Fire  Flying             78              84   \n",
      "7       8  Mega Charizard X   Fire  Dragon             78             130   \n",
      "8       9  Mega Charizard Y   Fire  Flying             78             104   \n",
      "9      10          Squirtle  Water     NaN             44              48   \n",
      "\n",
      "   NIVEAU_DEFENSE   NIVEAU_ATTAQUE_SPECEIALE  NIVEAU_DEFENSE_SPECIALE  \\\n",
      "0              49                         65                       65   \n",
      "1              63                         80                       80   \n",
      "2              83                        100                      100   \n",
      "3             123                        122                      120   \n",
      "4              43                         60                       50   \n",
      "5              58                         80                       65   \n",
      "6              78                        109                       85   \n",
      "7             111                        130                       85   \n",
      "8              78                        159                      115   \n",
      "9              65                         50                       64   \n",
      "\n",
      "   VITESSE  GENERATION  LEGENDAIRE  \n",
      "0       45           1       False  \n",
      "1       60           1       False  \n",
      "2       80           1       False  \n",
      "3       80           1       False  \n",
      "4       65           1       False  \n",
      "5       80           1       False  \n",
      "6      100           1       False  \n",
      "7      100           1       False  \n",
      "8      100           1       False  \n",
      "9       43           1       False  \n"
     ]
    }
   ],
   "source": [
    "import pandas as pnd\n",
    "\n",
    "# Deactivate the maximum number of DataFrame columns to be display\n",
    "pnd.set_option('display.max_columns', None)\n",
    "\n",
    "# Load pokemons'dara inside a Dataframe named ourPokemons\n",
    "ourPokemons = pnd.read_csv('data/pokedex.csv')\n",
    "\n",
    "# Show Dataframes'columns\n",
    "# |---------------------------------------------------------------------------------------------------|\n",
    "# | Column                    |            Meaning                                                    |\n",
    "# |---------------------------------------------------------------------------------------------------|\n",
    "# | NUMERO                    |   Id of the pokemon                                                   |\n",
    "# | NOM                       |   Pokemon's name                                                      |\n",
    "# | TYPE_1                    |   Primary type (Grass, Fire, Steel, ...)                              |\n",
    "# | TYPE_2                    |   Secondary type (Grass, Fire, Steel, ...)                            |\n",
    "# | POINT_DE_VIE              |   Life of the pokemon                                                 |\n",
    "# | NIVEAU_ATTAQUE            |   The Pokemon's attack level                                          |\n",
    "# | NIVEAU_DEFENSE            |   The Pokemon's defense level                                         |\n",
    "# | NIVEAU_ATTAQUE_SPECIALE   |   Pokemon's special attack level                                      |\n",
    "# | NIVEAU_DEFENSE_SPECIALE   |   Pokemon's special defense level                                     |\n",
    "# | VITESSE                   |   Pokemon's speed                                                     |\n",
    "# | GENERATION                |   Generation number to which Pokemon belongs                          |\n",
    "# | LEGENDAIRE                |   Is the Pokémon legendary? This is a Boolean data (True or False)    |\n",
    "# |---------------------------------------------------------------------------------------------------|\n",
    "print(ourPokemons.columns.values)\n",
    "\n",
    "# Display the first 10 lines inside the Dataframe\n",
    "print(ourPokemons.head(10))\n"
   ]
  },
  {
   "cell_type": "code",
   "execution_count": 10,
   "metadata": {},
   "outputs": [
    {
     "name": "stdout",
     "output_type": "stream",
     "text": [
      "0     0\n",
      "1     0\n",
      "2     0\n",
      "3     0\n",
      "4     0\n",
      "     ..\n",
      "95    0\n",
      "96    0\n",
      "97    0\n",
      "98    0\n",
      "99    0\n",
      "Name: LEGENDAIRE, Length: 100, dtype: int64\n",
      "(800, 12)\n",
      "<class 'pandas.core.frame.DataFrame'>\n",
      "RangeIndex: 800 entries, 0 to 799\n",
      "Data columns (total 12 columns):\n",
      " #   Column                     Non-Null Count  Dtype \n",
      "---  ------                     --------------  ----- \n",
      " 0   NUMERO                     800 non-null    int64 \n",
      " 1   NOM                        799 non-null    object\n",
      " 2   TYPE_1                     800 non-null    object\n",
      " 3   TYPE_2                     414 non-null    object\n",
      " 4   POINTS_DE_VIE              800 non-null    int64 \n",
      " 5   NIVEAU_ATTAQUE             800 non-null    int64 \n",
      " 6   NIVEAU_DEFENSE             800 non-null    int64 \n",
      " 7    NIVEAU_ATTAQUE_SPECEIALE  800 non-null    int64 \n",
      " 8   NIVEAU_DEFENSE_SPECIALE    800 non-null    int64 \n",
      " 9   VITESSE                    800 non-null    int64 \n",
      " 10  GENERATION                 800 non-null    int64 \n",
      " 11  LEGENDAIRE                 800 non-null    int64 \n",
      "dtypes: int64(9), object(3)\n",
      "memory usage: 75.1+ KB\n",
      "None\n"
     ]
    }
   ],
   "source": [
    "# Transforming the LEGENDARY column into an integer 0=FALSE and 1=TRUE\n",
    "ourPokemons['LEGENDAIRE'] = (ourPokemons['LEGENDAIRE'] == 'VRAI').astype(int)\n",
    "\n",
    "print(ourPokemons['LEGENDAIRE'].head(100))\n",
    "\n",
    "# Counting the number of observations and features\n",
    "print(ourPokemons.shape)\n",
    "\n",
    "# Information about our datasets\n",
    "print(ourPokemons.info())"
   ]
  }
 ],
 "metadata": {
  "kernelspec": {
   "display_name": "venv",
   "language": "python",
   "name": "python3"
  },
  "language_info": {
   "codemirror_mode": {
    "name": "ipython",
    "version": 3
   },
   "file_extension": ".py",
   "mimetype": "text/x-python",
   "name": "python",
   "nbconvert_exporter": "python",
   "pygments_lexer": "ipython3",
   "version": "3.10.12"
  }
 },
 "nbformat": 4,
 "nbformat_minor": 2
}
