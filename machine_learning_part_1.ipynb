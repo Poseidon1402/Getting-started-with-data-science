{
 "cells": [
  {
   "cell_type": "code",
   "execution_count": null,
   "metadata": {},
   "outputs": [],
   "source": [
    "import os\n",
    "\n",
    "# Get all files stored inside data directory\n",
    "fileLists = os.listdir('data')\n",
    "\n",
    "for file in fileLists:\n",
    "    print(file) "
   ]
  },
  {
   "cell_type": "code",
   "execution_count": null,
   "metadata": {},
   "outputs": [],
   "source": [
    "import pandas as pnd\n",
    "\n",
    "# Deactivate the maximum number of DataFrame columns to be display\n",
    "pnd.set_option('display.max_columns', None)\n",
    "\n",
    "# Load pokemons'dara inside a Dataframe named ourPokemons\n",
    "ourPokemons = pnd.read_csv('data/pokedex.csv')\n",
    "\n",
    "# Show Dataframes'columns\n",
    "# |---------------------------------------------------------------------------------------------------|\n",
    "# | Column                    |            Meaning                                                    |\n",
    "# |---------------------------------------------------------------------------------------------------|\n",
    "# | NUMERO                    |   Id of the pokemon                                                   |\n",
    "# | NOM                       |   Pokemon's name                                                      |\n",
    "# | TYPE_1                    |   Primary type (Grass, Fire, Steel, ...)                              |\n",
    "# | TYPE_2                    |   Secondary type (Grass, Fire, Steel, ...)                            |\n",
    "# | POINT_DE_VIE              |   Life of the pokemon                                                 |\n",
    "# | NIVEAU_ATTAQUE            |   The Pokemon's attack level                                          |\n",
    "# | NIVEAU_DEFENSE            |   The Pokemon's defense level                                         |\n",
    "# | NIVEAU_ATTAQUE_SPECIALE   |   Pokemon's special attack level                                      |\n",
    "# | NIVEAU_DEFENSE_SPECIALE   |   Pokemon's special defense level                                     |\n",
    "# | VITESSE                   |   Pokemon's speed                                                     |\n",
    "# | GENERATION                |   Generation number to which Pokemon belongs                          |\n",
    "# | LEGENDAIRE                |   Is the Pokémon legendary? This is a Boolean data (True or False)    |\n",
    "# |---------------------------------------------------------------------------------------------------|\n",
    "print(ourPokemons.columns.values)\n",
    "\n",
    "# Display the first 10 lines inside the Dataframe\n",
    "print(ourPokemons.head(10))\n"
   ]
  },
  {
   "cell_type": "code",
   "execution_count": null,
   "metadata": {},
   "outputs": [],
   "source": [
    "# Transforming the LEGENDARY column into an integer 0=FALSE and 1=TRUE\n",
    "ourPokemons['LEGENDAIRE'] = (ourPokemons['LEGENDAIRE'] == 'VRAI').astype(int)\n",
    "\n",
    "print(ourPokemons['LEGENDAIRE'].head(100))\n",
    "\n",
    "# Counting the number of observations and features\n",
    "print(ourPokemons.shape)\n",
    "\n",
    "# Information about our datasets\n",
    "print(ourPokemons.info())\n",
    "\n",
    "# Search the line which contains a null value (Name)\n",
    "print(ourPokemons[ourPokemons['NOM'].isnull()])"
   ]
  },
  {
   "cell_type": "code",
   "execution_count": null,
   "metadata": {},
   "outputs": [],
   "source": [
    "# Load combats.csv file\n",
    "fighting = pnd.read_csv('data/combats.csv')\n",
    "\n",
    "# Show features\n",
    "print(fighting.columns.values)\n",
    "\n",
    "# Show first 10 lines inside the dataframe\n",
    "print(fighting.head(10))\n",
    "\n",
    "# Count lines and column numbers\n",
    "print(fighting.shape)\n",
    "\n",
    "# Information about our dataset\n",
    "print(fighting.info())"
   ]
  },
  {
   "cell_type": "code",
   "execution_count": null,
   "metadata": {},
   "outputs": [],
   "source": [
    "# When a grouping is performed using the groupBy () function, all the features in the dataset take on the value of this grouping.\n",
    "# Features in the dataset take on the value of this grouping.\n",
    "# This is why the features SECOND_POKEMON and POKEMON WINNER have the same value\n",
    "nbPokemonOnFirstPosition = fighting.groupby('POKEMON_PREMIER').count()\n",
    "nbPokemonOnSecondPosition = fighting.groupby('POKEMON_SECOND').count()\n",
    "nbTotalFightPerPokemon = nbPokemonOnFirstPosition + nbPokemonOnSecondPosition\n",
    "\n",
    "nbWin = fighting.groupby('GAGNANT').count()\n",
    "print(nbWin)"
   ]
  },
  {
   "cell_type": "code",
   "execution_count": null,
   "metadata": {},
   "outputs": [],
   "source": [
    "#We create a list from an extraction to obtain the list of list of Pokémons, sorted by number\n",
    "#This list of numbers will enable us to aggregate the data\n",
    "listToBeAggregated = fighting.groupby('GAGNANT').count()\n",
    "listToBeAggregated.sort_index()\n",
    "\n",
    "# We add the number of fights\n",
    "listToBeAggregated['NBR_COMBATS'] = nbPokemonOnFirstPosition.GAGNANT + nbPokemonOnSecondPosition.GAGNANT\n",
    "\n",
    "# We add the number of wins\n",
    "listToBeAggregated['NBR_VICTOIRES'] = nbWin.POKEMON_PREMIER\n",
    "\n",
    "# We calculate the percentage of wins\n",
    "listToBeAggregated['POURCENTAGE_DE_VICTOIRES'] = nbWin.POKEMON_PREMIER / (nbPokemonOnFirstPosition.GAGNANT + nbPokemonOnSecondPosition.GAGNANT)\n",
    "\n",
    "newPokedex = ourPokemons.merge(listToBeAggregated, left_on='NUMERO', right_index=True, how='left')\n",
    "\n",
    "print(newPokedex)"
   ]
  },
  {
   "cell_type": "code",
   "execution_count": 9,
   "metadata": {},
   "outputs": [
    {
     "name": "stdout",
     "output_type": "stream",
     "text": [
      "         NUMERO  POINTS_DE_VIE  NIVEAU_ATTAQUE  NIVEAU_DEFENSE  \\\n",
      "count  800.0000     800.000000      800.000000      800.000000   \n",
      "mean   400.5000      69.258750       79.001250       73.842500   \n",
      "std    231.0844      25.534669       32.457366       31.183501   \n",
      "min      1.0000       1.000000        5.000000        5.000000   \n",
      "25%    200.7500      50.000000       55.000000       50.000000   \n",
      "50%    400.5000      65.000000       75.000000       70.000000   \n",
      "75%    600.2500      80.000000      100.000000       90.000000   \n",
      "max    800.0000     255.000000      190.000000      230.000000   \n",
      "\n",
      "        NIVEAU_ATTAQUE_SPECEIALE  NIVEAU_DEFENSE_SPECIALE     VITESSE  \\\n",
      "count                 800.000000               800.000000  800.000000   \n",
      "mean                   72.820000                71.902500   68.277500   \n",
      "std                    32.722294                27.828916   29.060474   \n",
      "min                    10.000000                20.000000    5.000000   \n",
      "25%                    49.750000                50.000000   45.000000   \n",
      "50%                    65.000000                70.000000   65.000000   \n",
      "75%                    95.000000                90.000000   90.000000   \n",
      "max                   194.000000               230.000000  180.000000   \n",
      "\n",
      "       GENERATION  LEGENDAIRE  POKEMON_PREMIER  POKEMON_SECOND  NBR_COMBATS  \\\n",
      "count   800.00000       800.0       783.000000      783.000000   783.000000   \n",
      "mean      3.32375         0.0        63.856960       63.856960   127.541507   \n",
      "std       1.66129         0.0        32.925941       32.925941    11.397402   \n",
      "min       1.00000         0.0         3.000000        3.000000    92.000000   \n",
      "25%       2.00000         0.0        36.000000       36.000000   120.000000   \n",
      "50%       3.00000         0.0        62.000000       62.000000   128.000000   \n",
      "75%       5.00000         0.0        91.000000       91.000000   135.000000   \n",
      "max       6.00000         0.0       152.000000      152.000000   164.000000   \n",
      "\n",
      "       NBR_VICTOIRES  POURCENTAGE_DE_VICTOIRES  \n",
      "count     783.000000                783.000000  \n",
      "mean       63.856960                  0.501538  \n",
      "std        32.925941                  0.254993  \n",
      "min         3.000000                  0.021739  \n",
      "25%        36.000000                  0.284228  \n",
      "50%        62.000000                  0.491071  \n",
      "75%        91.000000                  0.717644  \n",
      "max       152.000000                  0.984496  \n"
     ]
    }
   ],
   "source": [
    "# Ecart-type (std = standard deviation)\n",
    "# The standard deviation is a statistical value, used to show the distribution\n",
    "# of the data around the mean. The smaller the value, the closer the data\n",
    "# the data are close to the mean, the further away they are.\n",
    "print(newPokedex.describe())"
   ]
  }
 ],
 "metadata": {
  "kernelspec": {
   "display_name": "venv",
   "language": "python",
   "name": "python3"
  },
  "language_info": {
   "codemirror_mode": {
    "name": "ipython",
    "version": 3
   },
   "file_extension": ".py",
   "mimetype": "text/x-python",
   "name": "python",
   "nbconvert_exporter": "python",
   "pygments_lexer": "ipython3",
   "version": "3.10.12"
  }
 },
 "nbformat": 4,
 "nbformat_minor": 2
}
